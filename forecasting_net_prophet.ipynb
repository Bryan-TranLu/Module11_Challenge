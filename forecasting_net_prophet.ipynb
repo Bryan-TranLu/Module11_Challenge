{
 "cells": [
  {
   "cell_type": "markdown",
   "metadata": {
    "id": "uqmYY88waACL"
   },
   "source": [
    "# Forecasting Net Prophet\n",
    "\n",
    "You’re a growth analyst at [MercadoLibre](http://investor.mercadolibre.com/investor-relations). With over 200 million users, MercadoLibre is the most popular e-commerce site in Latin America. You've been tasked with analyzing the company's financial and user data in clever ways to make the company grow. So, you want to find out if the ability to predict search traffic can translate into the ability to successfully trade the stock.\n",
    "\n",
    "Instructions\n",
    "\n",
    "This section divides the instructions for this Challenge into four steps and an optional fifth step, as follows:\n",
    "\n",
    "* Step 1: Find unusual patterns in hourly Google search traffic\n",
    "\n",
    "* Step 2: Mine the search traffic data for seasonality\n",
    "\n",
    "* Step 3: Relate the search traffic to stock price patterns\n",
    "\n",
    "* Step 4: Create a time series model with Prophet\n",
    "\n",
    "* Step 5 (optional): Forecast revenue by using time series models\n",
    "\n",
    "The following subsections detail these steps.\n",
    "\n",
    "## Step 1: Find Unusual Patterns in Hourly Google Search Traffic\n",
    "\n",
    "The data science manager asks if the Google search traffic for the company links to any financial events at the company. Or, does the search traffic data just present random noise? To answer this question, pick out any unusual patterns in the Google search data for the company, and connect them to the corporate financial events.\n",
    "\n",
    "To do so, complete the following steps:\n",
    "\n",
    "1. Read the search data into a DataFrame, and then slice the data to just the month of May 2020. (During this month, MercadoLibre released its quarterly financial results.) Use hvPlot to visualize the results. Do any unusual patterns exist?\n",
    "\n",
    "2. Calculate the total search traffic for the month, and then compare the value to the monthly median across all months. Did the Google search traffic increase during the month that MercadoLibre released its financial results?\n",
    "\n",
    "## Step 2: Mine the Search Traffic Data for Seasonality\n",
    "\n",
    "Marketing realizes that they can use the hourly search data, too. If they can track and predict interest in the company and its platform for any time of day, they can focus their marketing efforts around the times that have the most traffic. This will get a greater return on investment (ROI) from their marketing budget.\n",
    "\n",
    "To that end, you want to mine the search traffic data for predictable seasonal patterns of interest in the company. To do so, complete the following steps:\n",
    "\n",
    "1. Group the hourly search data to plot the average traffic by the day of the week (for example, Monday vs. Friday).\n",
    "\n",
    "2. Using hvPlot, visualize this traffic as a heatmap, referencing the `index.hour` as the x-axis and the `index.dayofweek` as the y-axis. Does any day-of-week effect that you observe concentrate in just a few hours of that day?\n",
    "\n",
    "3. Group the search data by the week of the year. Does the search traffic tend to increase during the winter holiday period (weeks 40 through 52)?\n",
    "\n",
    "## Step 3: Relate the Search Traffic to Stock Price Patterns\n",
    "\n",
    "You mention your work on the search traffic data during a meeting with people in the finance group at the company. They want to know if any relationship between the search data and the company stock price exists, and they ask if you can investigate.\n",
    "\n",
    "To do so, complete the following steps:\n",
    "\n",
    "1. Read in and plot the stock price data. Concatenate the stock price data to the search data in a single DataFrame.\n",
    "\n",
    "2. Market events emerged during the year of 2020 that many companies found difficult. But, after the initial shock to global financial markets, new customers and revenue increased for e-commerce platforms. Slice the data to just the first half of 2020 (`2020-01` to `2020-06` in the DataFrame), and then use hvPlot to plot the data. Do both time series indicate a common trend that’s consistent with this narrative?\n",
    "\n",
    "3. Create a new column in the DataFrame named “Lagged Search Trends” that offsets, or shifts, the search traffic by one hour. Create two additional columns:\n",
    "\n",
    "    * “Stock Volatility”, which holds an exponentially weighted four-hour rolling average of the company’s stock volatility\n",
    "\n",
    "    * “Hourly Stock Return”, which holds the percent change of the company's stock price on an hourly basis\n",
    "\n",
    "4. Review the time series correlation, and then answer the following question: Does a predictable relationship exist between the lagged search traffic and the stock volatility or between the lagged search traffic and the stock price returns?\n",
    "\n",
    "## Step 4: Create a Time Series Model with Prophet\n",
    "\n",
    "Now, you need to produce a time series model that analyzes and forecasts patterns in the hourly search data. To do so, complete the following steps:\n",
    "\n",
    "1. Set up the Google search data for a Prophet forecasting model.\n",
    "\n",
    "2. After estimating the model, plot the forecast. How's the near-term forecast for the popularity of MercadoLibre?\n",
    "\n",
    "3. Plot the individual time series components of the model to answer the following questions:\n",
    "\n",
    "    * What time of day exhibits the greatest popularity?\n",
    "\n",
    "    * Which day of the week gets the most search traffic?\n",
    "\n",
    "    * What's the lowest point for search traffic in the calendar year?\n",
    "\n",
    "## Step 5 (Optional): Forecast Revenue by Using Time Series Models\n",
    "\n",
    "A few weeks after your initial analysis, the finance group follows up to find out if you can help them solve a different problem. Your fame as a growth analyst in the company continues to grow!\n",
    "\n",
    "Specifically, the finance group wants a forecast of the total sales for the next quarter. This will dramatically increase their ability to plan budgets and to help guide expectations for the company investors.\n",
    "\n",
    "To do so, complete the following steps:\n",
    "\n",
    "1. Read in the daily historical sales (that is, revenue) figures, and then apply a Prophet model to the data.\n",
    "\n",
    "2. Interpret the model output to identify any seasonal patterns in the company's revenue. For example, what are the peak revenue days? (Mondays? Fridays? Something else?)\n",
    "\n",
    "3. Produce a sales forecast for the finance group. Give them a number for the expected total sales in the next quarter. Include the best- and worst-case scenarios to help them make better plans.\n"
   ]
  },
  {
   "cell_type": "markdown",
   "metadata": {
    "id": "J337wyCXaACN"
   },
   "source": [
    "## Install and import the required libraries and dependencies"
   ]
  },
  {
   "cell_type": "code",
   "execution_count": null,
   "metadata": {
    "id": "Jk5OjSiaaACN"
   },
   "outputs": [],
   "source": [
    "# Install the required libraries\n",
    "!pip install pystan\n",
    "!pip install prophet\n",
    "!pip install hvplot\n",
    "!pip install holoviews"
   ]
  },
  {
   "cell_type": "code",
   "execution_count": null,
   "metadata": {
    "colab": {
     "background_save": true,
     "base_uri": "https://localhost:8080/",
     "height": 17
    },
    "id": "Iz58yNqsaACO",
    "outputId": "3cddd0cc-a3b2-417b-924a-78adba10412d"
   },
   "outputs": [],
   "source": [
    "# Import the required libraries and dependencies\n",
    "import pandas as pd\n",
    "import holoviews as hv\n",
    "from prophet import Prophet\n",
    "import hvplot.pandas\n",
    "import datetime as dt\n",
    "import numpy as np\n",
    "%matplotlib inline"
   ]
  },
  {
   "cell_type": "markdown",
   "metadata": {
    "id": "x0gMfpVCaACO"
   },
   "source": [
    "## Step 1: Find Unusual Patterns in Hourly Google Search Traffic\n",
    "\n",
    "The data science manager asks if the Google search traffic for the company links to any financial events at the company. Or, does the search traffic data just present random noise? To answer this question, pick out any unusual patterns in the Google search data for the company, and connect them to the corporate financial events.\n",
    "\n",
    "To do so, complete the following steps:\n",
    "\n",
    "1. Read the search data into a DataFrame, and then slice the data to just the month of May 2020. (During this month, MercadoLibre released its quarterly financial results.) Use hvPlot to visualize the results. Do any unusual patterns exist?\n",
    "\n",
    "2. Calculate the total search traffic for the month, and then compare the value to the monthly median across all months. Did the Google search traffic increase during the month that MercadoLibre released its financial results?\n"
   ]
  },
  {
   "cell_type": "markdown",
   "metadata": {
    "id": "tE1ixGmjaACO"
   },
   "source": [
    "#### Step 1: Read the search data into a DataFrame, and then slice the data to just the month of May 2020. (During this month, MercadoLibre released its quarterly financial results.) Use hvPlot to visualize the results. Do any unusual patterns exist?"
   ]
  },
  {
   "cell_type": "code",
   "execution_count": null,
   "metadata": {
    "colab": {
     "base_uri": "https://localhost:8080/",
     "height": 74
    },
    "id": "RbLhhdXbaACO",
    "outputId": "564d118d-1237-4a02-93eb-248d8f6d3096"
   },
   "outputs": [],
   "source": [
    "# Upload the \"google_hourly_search_trends.csv\" file into Colab, then store in a Pandas DataFrame\n",
    "\n",
    "from google.colab import files\n",
    "uploaded = files.upload()"
   ]
  },
  {
   "cell_type": "code",
   "execution_count": null,
   "metadata": {
    "colab": {
     "base_uri": "https://localhost:8080/",
     "height": 238
    },
    "id": "RIjzjJF0glGp",
    "outputId": "dc28f2df-6939-43bd-b0d8-3f2e2eb3c0f8"
   },
   "outputs": [],
   "source": [
    "# Set the \"Date\" column as the Datetime Index.\n",
    "df_mercado_trends = pd.read_csv(\"google_hourly_search_trends.csv\", \n",
    "                                index_col = \"Date\",\n",
    "                                parse_dates = True,\n",
    "                                infer_datetime_format= True)\n",
    "\n",
    "# Review the first and last five rows of the DataFrame\n",
    "df_mercado_trends.head()"
   ]
  },
  {
   "cell_type": "code",
   "execution_count": null,
   "metadata": {
    "colab": {
     "base_uri": "https://localhost:8080/"
    },
    "id": "WntTFpN1aACO",
    "outputId": "6f62d3a9-14cf-40bb-8c1f-5c4363f6a9e8"
   },
   "outputs": [],
   "source": [
    "# Review the data types of the DataFrame using the info function\n",
    "df_mercado_trends.info()"
   ]
  },
  {
   "cell_type": "code",
   "execution_count": null,
   "metadata": {
    "colab": {
     "base_uri": "https://localhost:8080/",
     "height": 317
    },
    "id": "y-aWA7MVaACO",
    "outputId": "5ee68751-c48f-48f2-9194-9dde09df0b5f"
   },
   "outputs": [],
   "source": [
    "# Holoviews extension to render hvPlots in Colab\n",
    "hv.extension('bokeh')\n",
    "\n",
    "# Slice the DataFrame to just the month of May 2020\n",
    "df_may_2020 = df_mercado_trends.loc[\"2020-05-01\":\"2020-05-31\"]\n",
    "\n",
    "# Use hvPlot to visualize the data for May 2020\n",
    "df_may_2020.hvplot(title = \"MercadoLibre Search Trends - May 2020\")"
   ]
  },
  {
   "cell_type": "markdown",
   "metadata": {
    "id": "mLWeYt8CaACO"
   },
   "source": [
    "#### Step 2: Calculate the total search traffic for the month, and then compare the value to the monthly median across all months. Did the Google search traffic increase during the month that MercadoLibre released its financial results?"
   ]
  },
  {
   "cell_type": "code",
   "execution_count": null,
   "metadata": {
    "colab": {
     "base_uri": "https://localhost:8080/"
    },
    "id": "orOb8_5-aACO",
    "outputId": "b1f24087-30c9-4d26-a05b-0504d8b81ad9"
   },
   "outputs": [],
   "source": [
    "# Calculate the sum of the total search traffic for May 2020\n",
    "traffic_may_2020 = df_may_2020.sum()\n",
    "\n",
    "# View the traffic_may_2020 value\n",
    "traffic_may_2020"
   ]
  },
  {
   "cell_type": "code",
   "execution_count": null,
   "metadata": {
    "colab": {
     "base_uri": "https://localhost:8080/"
    },
    "id": "Cx74Qqk8aACO",
    "outputId": "5aa6cd2d-274d-4a37-d0e3-49ccba42b78b"
   },
   "outputs": [],
   "source": [
    "# Calcluate the monhtly median search traffic across all months \n",
    "# Group the DataFrame by index year and then index month, chain the sum and then the median functions\n",
    "median_monthly_traffic = df_mercado_trends.groupby(by=[df_mercado_trends.index.year, \n",
    "                                                       df_mercado_trends.index.month]\n",
    "                                                   ).sum().median()\n",
    "\n",
    "# View the median_monthly_traffic value\n",
    "median_monthly_traffic"
   ]
  },
  {
   "cell_type": "code",
   "execution_count": null,
   "metadata": {
    "colab": {
     "base_uri": "https://localhost:8080/"
    },
    "id": "nYCabcwpaACO",
    "outputId": "856eaf7b-b64a-4c69-8b74-73282d2032e1"
   },
   "outputs": [],
   "source": [
    "# Compare the seach traffic for the month of May 2020 to the overall monthly median value\n",
    "traffic_may_2020 / median_monthly_traffic"
   ]
  },
  {
   "cell_type": "markdown",
   "metadata": {
    "id": "rFYacjPIaACO"
   },
   "source": [
    "##### Answer the following question: "
   ]
  },
  {
   "cell_type": "markdown",
   "metadata": {
    "id": "14vDpk2iaACO"
   },
   "source": [
    "**Question:** Did the Google search traffic increase during the month that MercadoLibre released its financial results?\n",
    "\n",
    "**Answer:** Yes, the Google search traffic in May 2020 was increased by around 8.55% over the median monthly volume."
   ]
  },
  {
   "cell_type": "markdown",
   "metadata": {
    "id": "tAYdBHTXaACP"
   },
   "source": [
    "## Step 2: Mine the Search Traffic Data for Seasonality\n",
    "\n",
    "Marketing realizes that they can use the hourly search data, too. If they can track and predict interest in the company and its platform for any time of day, they can focus their marketing efforts around the times that have the most traffic. This will get a greater return on investment (ROI) from their marketing budget.\n",
    "\n",
    "To that end, you want to mine the search traffic data for predictable seasonal patterns of interest in the company. To do so, complete the following steps:\n",
    "\n",
    "1. Group the hourly search data to plot the average traffic by the day of the week (for example, Monday vs. Friday).\n",
    "\n",
    "2. Using hvPlot, visualize this traffic as a heatmap, referencing the `index.hour` as the x-axis and the `index.dayofweek` as the y-axis. Does any day-of-week effect that you observe concentrate in just a few hours of that day?\n",
    "\n",
    "3. Group the search data by the week of the year. Does the search traffic tend to increase during the winter holiday period (weeks 40 through 52)?\n"
   ]
  },
  {
   "cell_type": "markdown",
   "metadata": {
    "id": "8LUCrPjwaACP"
   },
   "source": [
    "#### Step 1: Group the hourly search data to plot the average traffic by the day of the week (for example, Monday vs. Friday)."
   ]
  },
  {
   "cell_type": "code",
   "execution_count": null,
   "metadata": {
    "colab": {
     "base_uri": "https://localhost:8080/",
     "height": 317
    },
    "id": "6EWDEEa1aACP",
    "outputId": "1a3a5fce-bd8f-4e92-cb99-57cdb89cd114"
   },
   "outputs": [],
   "source": [
    "# Holoviews extension to render hvPlots in Colab\n",
    "hv.extension('bokeh')\n",
    "\n",
    "# Group the hourly search data to plot (use hvPlot) the average traffic by the day of week \n",
    "df_mercado_trends.groupby(df_mercado_trends.index.dayofweek).mean().hvplot(title = \"MercadoLibre Average Traffic by Day of Week\")"
   ]
  },
  {
   "cell_type": "markdown",
   "metadata": {
    "id": "61HGYhbZaACP"
   },
   "source": [
    "#### Step 2: Using hvPlot, visualize this traffic as a heatmap, referencing the `index.hour` as the x-axis and the `index.dayofweek` as the y-axis. Does any day-of-week effect that you observe concentrate in just a few hours of that day?"
   ]
  },
  {
   "cell_type": "code",
   "execution_count": null,
   "metadata": {
    "colab": {
     "base_uri": "https://localhost:8080/",
     "height": 317
    },
    "id": "lW-lsoH2aACP",
    "outputId": "11ea8855-b9fd-4226-9bb3-c97f4098249e"
   },
   "outputs": [],
   "source": [
    "# Holoviews extension to render hvPlots in Colab\n",
    "hv.extension('bokeh')\n",
    "\n",
    "# Use hvPlot to visualize the hour of the day and day of week search traffic as a heatmap.\n",
    "df_mercado_trends.hvplot.heatmap(x='index.hour', \n",
    "                                 y='index.dayofweek', \n",
    "                                 C='Search Trends', \n",
    "                                 cmap='reds',\n",
    "                                 title = \"MercadoLibre Heatmap Average Traffic per Hour per Day of Week\"\n",
    "                                 ).aggregate(function=np.mean)"
   ]
  },
  {
   "cell_type": "markdown",
   "metadata": {
    "id": "VJRGRHwEaACP"
   },
   "source": [
    "##### Answer the following question:"
   ]
  },
  {
   "cell_type": "markdown",
   "metadata": {
    "id": "7fdRFgQ-aACP"
   },
   "source": [
    "**Question:** Does any day-of-week effect that you observe concentrate in just a few hours of that day?\n",
    "\n",
    "**Answer:** Yes, Monday."
   ]
  },
  {
   "cell_type": "markdown",
   "metadata": {
    "id": "yDj9mFROaACP"
   },
   "source": [
    "#### Step 3: Group the search data by the week of the year. Does the search traffic tend to increase during the winter holiday period (weeks 40 through 52)?"
   ]
  },
  {
   "cell_type": "code",
   "execution_count": null,
   "metadata": {
    "colab": {
     "base_uri": "https://localhost:8080/",
     "height": 398
    },
    "id": "8VsTQGsPaACP",
    "outputId": "8f2f397e-61a7-4a82-8c8a-99373aeff96d"
   },
   "outputs": [],
   "source": [
    "# Holoviews extension to render hvPlots in Colab\n",
    "hv.extension('bokeh')\n",
    "\n",
    "# Group the hourly search data to plot (use hvPlot) the average traffic by the week of the year\n",
    "df_mercado_trends.groupby(df_mercado_trends.index.week).mean().hvplot(title = \"Mercari Average Traffic by Week\")"
   ]
  },
  {
   "cell_type": "markdown",
   "metadata": {
    "id": "zmjF75H8aACP"
   },
   "source": [
    "##### Answer the following question:"
   ]
  },
  {
   "cell_type": "markdown",
   "metadata": {
    "id": "lPww-t8WaACP"
   },
   "source": [
    "**Question:** Does the search traffic tend to increase during the winter holiday period (weeks 40 through 52)?\n",
    "\n",
    "**Answer:** Yes, search traffic increases during the holiday season."
   ]
  },
  {
   "cell_type": "markdown",
   "metadata": {
    "id": "-YMa_p0gaACP"
   },
   "source": [
    "## Step 3: Relate the Search Traffic to Stock Price Patterns\n",
    "\n",
    "You mention your work on the search traffic data during a meeting with people in the finance group at the company. They want to know if any relationship between the search data and the company stock price exists, and they ask if you can investigate.\n",
    "\n",
    "To do so, complete the following steps:\n",
    "\n",
    "1. Read in and plot the stock price data. Concatenate the stock price data to the search data in a single DataFrame.\n",
    "\n",
    "2. Market events emerged during the year of 2020 that many companies found difficult. But, after the initial shock to global financial markets, new customers and revenue increased for e-commerce platforms. Slice the data to just the first half of 2020 (`2020-01` to `2020-06` in the DataFrame), and then use hvPlot to plot the data. Do both time series indicate a common trend that’s consistent with this narrative?\n",
    "\n",
    "3. Create a new column in the DataFrame named “Lagged Search Trends” that offsets, or shifts, the search traffic by one hour. Create two additional columns:\n",
    "\n",
    "    * “Stock Volatility”, which holds an exponentially weighted four-hour rolling average of the company’s stock volatility\n",
    "\n",
    "    * “Hourly Stock Return”, which holds the percent change of the company's stock price on an hourly basis\n",
    "\n",
    "4. Review the time series correlation, and then answer the following question: Does a predictable relationship exist between the lagged search traffic and the stock volatility or between the lagged search traffic and the stock price returns?\n"
   ]
  },
  {
   "cell_type": "markdown",
   "metadata": {
    "id": "r8XR9e1IaACP"
   },
   "source": [
    "#### Step 1: Read in and plot the stock price data. Concatenate the stock price data to the search data in a single DataFrame."
   ]
  },
  {
   "cell_type": "code",
   "execution_count": null,
   "metadata": {
    "colab": {
     "base_uri": "https://localhost:8080/",
     "height": 74
    },
    "id": "eclN2f6DaACP",
    "outputId": "f0d9a80c-1d61-43d1-8e1b-0f2146349676"
   },
   "outputs": [],
   "source": [
    "# Upload the \"mercado_stock_price.csv\" file into Colab, then store in a Pandas DataFrame\n",
    "# Set the \"date\" column as the Datetime Index.\n",
    "from google.colab import files\n",
    "uploaded = files.upload()\n",
    "\n",
    "df_mercado_stock = pd.read_csv(\"mercado_stock_price.csv\",\n",
    "                               index_col = \"date\",\n",
    "                               parse_dates = True,\n",
    "                               infer_datetime_format = True)"
   ]
  },
  {
   "cell_type": "code",
   "execution_count": null,
   "metadata": {
    "colab": {
     "base_uri": "https://localhost:8080/",
     "height": 458
    },
    "id": "GjY-z9no1Dya",
    "outputId": "84483926-9220-4742-9c3b-81ccad7c5f18"
   },
   "outputs": [],
   "source": [
    "# View the first and last five rows of the DataFrame\n",
    "display(df_mercado_stock.head())\n",
    "display(df_mercado_stock.tail())"
   ]
  },
  {
   "cell_type": "code",
   "execution_count": null,
   "metadata": {
    "colab": {
     "base_uri": "https://localhost:8080/",
     "height": 317
    },
    "id": "dnucw6BkaACP",
    "outputId": "1be934fc-fcf8-4e97-f95b-fa649f62e8b3"
   },
   "outputs": [],
   "source": [
    "# Holoviews extension to render hvPlots in Colab\n",
    "hv.extension('bokeh')\n",
    "\n",
    "# Use hvPlot to visualize the closing price of the df_mercado_stock DataFrame\n",
    "df_mercado_stock.hvplot(title = \"MercadoLibre Closing Price\")"
   ]
  },
  {
   "cell_type": "code",
   "execution_count": null,
   "metadata": {
    "colab": {
     "base_uri": "https://localhost:8080/",
     "height": 395
    },
    "id": "-lCi6fOOaACQ",
    "outputId": "48e3e7e5-2f1a-4714-a3b5-d1d7afc4886a"
   },
   "outputs": [],
   "source": [
    "# Concatenate the df_mercado_stock DataFrame with the df_mercado_trends DataFrame\n",
    "# Concatenate the DataFrame by columns (axis=1), and drop and rows with only one column of data\n",
    "mercado_stock_trends_df = pd.concat([df_mercado_stock, df_mercado_trends],\n",
    "                                    axis = 1).dropna()\n",
    "\n",
    "# View the first and last five rows of the DataFrame\n",
    "display(mercado_stock_trends_df.head())\n",
    "display(mercado_stock_trends_df.tail())"
   ]
  },
  {
   "cell_type": "markdown",
   "metadata": {
    "id": "DPtRfFJoaACQ"
   },
   "source": [
    "#### Step 2: Market events emerged during the year of 2020 that many companies found difficult. But, after the initial shock to global financial markets, new customers and revenue increased for e-commerce platforms. Slice the data to just the first half of 2020 (`2020-01` to `2020-06` in the DataFrame), and then use hvPlot to plot the data. Do both time series indicate a common trend that’s consistent with this narrative?"
   ]
  },
  {
   "cell_type": "code",
   "execution_count": null,
   "metadata": {
    "colab": {
     "base_uri": "https://localhost:8080/",
     "height": 395
    },
    "id": "voNjRjjsaACQ",
    "outputId": "e03dc272-5602-4790-a0af-6cd1e79ca0b5"
   },
   "outputs": [],
   "source": [
    "# For the combined dataframe, slice to just the first half of 2020 (2020-01 through 2020-06) \n",
    "first_half_2020 = mercado_stock_trends_df.loc[\"2020-01-01\" : \"2020-06-30\"]\n",
    "\n",
    "# View the first and last five rows of first_half_2020 DataFrame\n",
    "display(first_half_2020.head())\n",
    "display(first_half_2020.tail())"
   ]
  },
  {
   "cell_type": "code",
   "execution_count": null,
   "metadata": {
    "colab": {
     "base_uri": "https://localhost:8080/",
     "height": 647
    },
    "id": "1bahwsXEaACQ",
    "outputId": "83c77d6e-802a-4d82-a2bb-35fb727b8362"
   },
   "outputs": [],
   "source": [
    "# Holoviews extension to render hvPlots in Colab\n",
    "hv.extension('bokeh')\n",
    "\n",
    "# Use hvPlot to visualize the close and Search Trends data\n",
    "# Plot each column on a separate axes using the following syntax\n",
    "# `hvplot(shared_axes=False, subplots=True).cols(1)`\n",
    "mercado_stock_trends_df.hvplot(shared_axes=False,\n",
    "                               subplots=True).cols(1)"
   ]
  },
  {
   "cell_type": "code",
   "execution_count": null,
   "metadata": {
    "colab": {
     "base_uri": "https://localhost:8080/",
     "height": 112
    },
    "id": "FTJ-M-fB7Kx_",
    "outputId": "ab9bf187-5411-48d2-ede0-e320e8e2e7e8"
   },
   "outputs": [],
   "source": [
    "# Custom student code: Calculate correlation between closing price and Search Trends. \n",
    "mercado_stock_trends_df[[\"close\", \"Search Trends\"]].corr()"
   ]
  },
  {
   "cell_type": "markdown",
   "metadata": {
    "id": "Cv-nDr5KaACQ"
   },
   "source": [
    "##### Answer the following question:"
   ]
  },
  {
   "cell_type": "markdown",
   "metadata": {
    "id": "3vfNTQdEaACQ"
   },
   "source": [
    "**Question:** Do both time series indicate a common trend that’s consistent with this narrative?\n",
    "\n",
    "**Answer:** Yes, there is a slight positive correlation between the search trend and the closing stock price."
   ]
  },
  {
   "cell_type": "markdown",
   "metadata": {
    "id": "ivexftAlaACQ"
   },
   "source": [
    "#### Step 3: Create a new column in the DataFrame named “Lagged Search Trends” that offsets, or shifts, the search traffic by one hour. Create two additional columns:\n",
    "\n",
    "* “Stock Volatility”, which holds an exponentially weighted four-hour rolling average of the company’s stock volatility\n",
    "\n",
    "* “Hourly Stock Return”, which holds the percent change of the company's stock price on an hourly basis\n"
   ]
  },
  {
   "cell_type": "code",
   "execution_count": null,
   "metadata": {
    "id": "bXTwMozOaACQ"
   },
   "outputs": [],
   "source": [
    "# Create a new column in the mercado_stock_trends_df DataFrame called Lagged Search Trends\n",
    "# This column should shift the Search Trends information by one hour\n",
    "mercado_stock_trends_df['Lagged Search Trends'] = mercado_stock_trends_df[\"Search Trends\"].shift(1)"
   ]
  },
  {
   "cell_type": "code",
   "execution_count": null,
   "metadata": {
    "id": "6-prHIL6aACQ"
   },
   "outputs": [],
   "source": [
    "# Create a new column in the mercado_stock_trends_df DataFrame called Stock Volatility\n",
    "# This column should calculate the standard deviation of the closing stock price return data over a 4 period rolling window\n",
    "mercado_stock_trends_df['Stock Volatility'] = mercado_stock_trends_df[\"close\"].pct_change().rolling(window = 4).std()"
   ]
  },
  {
   "cell_type": "code",
   "execution_count": null,
   "metadata": {
    "colab": {
     "background_save": true,
     "base_uri": "https://localhost:8080/",
     "height": 317
    },
    "id": "cp468hOTaACV",
    "outputId": "a90ab912-bcaa-47cf-b0b6-47542a11773d"
   },
   "outputs": [],
   "source": [
    "# Holoviews extension to render hvPlots in Colab\n",
    "hv.extension('bokeh')\n",
    "\n",
    "# Use hvPlot to visualize the stock volatility\n",
    "mercado_stock_trends_df['Stock Volatility'].hvplot(title = \"MercadoLibre Stock Volatility\")"
   ]
  },
  {
   "cell_type": "markdown",
   "metadata": {
    "id": "piMDYjMMaACV"
   },
   "source": [
    "**Solution Note:** Note how volatility spiked, and tended to stay high, during the first half of 2020. This is a common characteristic of volatility in stock returns worldwide: high volatility days tend to be followed by yet more high volatility days. When it rains, it pours."
   ]
  },
  {
   "cell_type": "code",
   "execution_count": null,
   "metadata": {
    "id": "rV9bDDpvaACV"
   },
   "outputs": [],
   "source": [
    "# Create a new column in the mercado_stock_trends_df DataFrame called Hourly Stock Return\n",
    "# This column should calculate hourly return percentage of the closing price\n",
    "mercado_stock_trends_df['Hourly Stock Return'] = mercado_stock_trends_df[\"close\"].pct_change()"
   ]
  },
  {
   "cell_type": "code",
   "execution_count": null,
   "metadata": {
    "colab": {
     "base_uri": "https://localhost:8080/",
     "height": 395
    },
    "id": "lQtIXaOnaACV",
    "outputId": "cf9c2994-11f8-49eb-b11f-8574f5810d05"
   },
   "outputs": [],
   "source": [
    "# View the first and last five rows of the mercado_stock_trends_df DataFrame\n",
    "display(mercado_stock_trends_df.head())\n",
    "display(mercado_stock_trends_df.tail())"
   ]
  },
  {
   "cell_type": "markdown",
   "metadata": {
    "id": "Qq91jdU_aACV"
   },
   "source": [
    "#### Step 4: Review the time series correlation, and then answer the following question: Does a predictable relationship exist between the lagged search traffic and the stock volatility or between the lagged search traffic and the stock price returns?"
   ]
  },
  {
   "cell_type": "code",
   "execution_count": null,
   "metadata": {
    "colab": {
     "base_uri": "https://localhost:8080/",
     "height": 143
    },
    "id": "47GA-ZFpaACV",
    "outputId": "d2096ce0-6da9-469a-b7c7-04add3a3cc1a"
   },
   "outputs": [],
   "source": [
    "# Construct correlation table of Stock Volatility, Lagged Search Trends, and Hourly Stock Return\n",
    "mercado_stock_trends_df[['Stock Volatility', 'Lagged Search Trends', 'Hourly Stock Return']].corr()"
   ]
  },
  {
   "cell_type": "markdown",
   "metadata": {
    "id": "DKdvvSoJaACV"
   },
   "source": [
    "##### Answer the following question:\n"
   ]
  },
  {
   "cell_type": "markdown",
   "metadata": {
    "id": "-SKATD4laACV"
   },
   "source": [
    "**Question:** Does a predictable relationship exist between the lagged search traffic and the stock volatility or between the lagged search traffic and the stock price returns?\n",
    "\n",
    "**Answer:** There is a negative correlation between lagged search traffic and stock volatility. There is a positive correlation between lagged search traffic and hourly stock return."
   ]
  },
  {
   "cell_type": "markdown",
   "metadata": {
    "id": "_ke9Xj8zaACW"
   },
   "source": [
    "## Step 4: Create a Time Series Model with Prophet\n",
    "\n",
    "Now, you need to produce a time series model that analyzes and forecasts patterns in the hourly search data. To do so, complete the following steps:\n",
    "\n",
    "1. Set up the Google search data for a Prophet forecasting model.\n",
    "\n",
    "2. After estimating the model, plot the forecast. How's the near-term forecast for the popularity of MercadoLibre?\n",
    "\n",
    "3. Plot the individual time series components of the model to answer the following questions:\n",
    "\n",
    "    * What time of day exhibits the greatest popularity?\n",
    "\n",
    "    * Which day of the week gets the most search traffic?\n",
    "\n",
    "    * What's the lowest point for search traffic in the calendar year?\n"
   ]
  },
  {
   "cell_type": "markdown",
   "metadata": {
    "id": "vtWJEHW3aACW"
   },
   "source": [
    "#### Step 1: Set up the Google search data for a Prophet forecasting model."
   ]
  },
  {
   "cell_type": "code",
   "execution_count": null,
   "metadata": {
    "colab": {
     "base_uri": "https://localhost:8080/",
     "height": 395
    },
    "id": "CJmpeqSBaACW",
    "outputId": "247a0728-4210-47a5-9123-c54b6e8d123b"
   },
   "outputs": [],
   "source": [
    "# Using the df_mercado_trends DataFrame, reset the index so the date information is no longer the index\n",
    "mercado_prophet_df = df_mercado_trends.reset_index()\n",
    "\n",
    "# Label the columns ds and y so that the syntax is recognized by Prophet\n",
    "mercado_prophet_df = mercado_prophet_df.rename(columns = {\"Date\" : \"ds\", \"Search Trends\" : 'y'})\n",
    "\n",
    "# Drop an NaN values from the prophet_df DataFrame\n",
    "mercado_prophet_df = mercado_prophet_df.dropna()\n",
    "\n",
    "# View the first and last five rows of the mercado_prophet_df DataFrame\n",
    "display(mercado_prophet_df.head())\n",
    "display(mercado_prophet_df.tail())"
   ]
  },
  {
   "cell_type": "code",
   "execution_count": null,
   "metadata": {
    "id": "9zNQmzE_aACW"
   },
   "outputs": [],
   "source": [
    "# Call the Prophet function, store as an object\n",
    "model_mercado_trends = Prophet()"
   ]
  },
  {
   "cell_type": "code",
   "execution_count": null,
   "metadata": {
    "colab": {
     "base_uri": "https://localhost:8080/"
    },
    "id": "vQTRuZmNaACW",
    "outputId": "ec66764d-daf8-4b19-ce7f-de76f80c52d3"
   },
   "outputs": [],
   "source": [
    "# Fit the time-series model.\n",
    "model_mercado_trends.fit(mercado_prophet_df)"
   ]
  },
  {
   "cell_type": "code",
   "execution_count": null,
   "metadata": {
    "colab": {
     "base_uri": "https://localhost:8080/",
     "height": 206
    },
    "id": "1V_g_VUHaACW",
    "outputId": "21a5c1c9-eb49-4efa-dfdb-4f8871597273"
   },
   "outputs": [],
   "source": [
    "# Create a future dataframe to hold predictions\n",
    "# Make the prediction go out as far as 2000 hours (approx 80 days)\n",
    "future_mercado_trends = model_mercado_trends.make_future_dataframe(periods= 2000, freq=\"H\")\n",
    "\n",
    "# View the last five rows of the future_mercado_trends DataFrame\n",
    "future_mercado_trends.tail()"
   ]
  },
  {
   "cell_type": "code",
   "execution_count": null,
   "metadata": {
    "colab": {
     "base_uri": "https://localhost:8080/",
     "height": 473
    },
    "id": "VplOqHd9aACW",
    "outputId": "44257f27-02f2-4467-b5cc-8d9ff8bf8d17"
   },
   "outputs": [],
   "source": [
    "# Make the predictions for the trend data using the future_mercado_trends DataFrame\n",
    "forecast_mercado_trends = model_mercado_trends.predict(future_mercado_trends)\n",
    "\n",
    "# Display the first five rows of the forecast_mercado_trends DataFrame\n",
    "forecast_mercado_trends.head()"
   ]
  },
  {
   "cell_type": "markdown",
   "metadata": {
    "id": "_iwUGQJEaACW"
   },
   "source": [
    "#### Step 2: After estimating the model, plot the forecast. How's the near-term forecast for the popularity of MercadoLibre?"
   ]
  },
  {
   "cell_type": "code",
   "execution_count": null,
   "metadata": {
    "colab": {
     "base_uri": "https://localhost:8080/",
     "height": 1000
    },
    "id": "6qIHECL1aACW",
    "outputId": "92258192-291a-40bb-ce88-e33c9df47cf1"
   },
   "outputs": [],
   "source": [
    "# Plot the Prophet predictions for the Mercado trends data\n",
    "model_mercado_trends.plot(forecast_mercado_trends)"
   ]
  },
  {
   "cell_type": "markdown",
   "metadata": {
    "id": "MiCbgkJIaACW"
   },
   "source": [
    "##### Answer the following question:"
   ]
  },
  {
   "cell_type": "markdown",
   "metadata": {
    "id": "eX2X4K-waACW"
   },
   "source": [
    "**Question:**  How's the near-term forecast for the popularity of MercadoLibre?\n",
    "\n",
    "**Answer:** There seems to be a downward trend in the popularity for MercadoLibre for near-term.\n"
   ]
  },
  {
   "cell_type": "markdown",
   "metadata": {
    "id": "06BDTf46aACW"
   },
   "source": [
    "#### Step 3: Plot the individual time series components of the model to answer the following questions:\n",
    "\n",
    "* What time of day exhibits the greatest popularity?\n",
    "\n",
    "* Which day of the week gets the most search traffic?\n",
    "\n",
    "* What's the lowest point for search traffic in the calendar year?\n"
   ]
  },
  {
   "cell_type": "code",
   "execution_count": null,
   "metadata": {
    "colab": {
     "base_uri": "https://localhost:8080/",
     "height": 455
    },
    "id": "2PGZALMHaACW",
    "outputId": "373dcb6f-cd64-44b0-8ccb-5555e54704f3"
   },
   "outputs": [],
   "source": [
    "# Set the index in the forecast_mercado_trends DataFrame to the ds datetime column\n",
    "forecast_mercado_trends = forecast_mercado_trends.set_index(\"ds\")\n",
    "\n",
    "# View the only the yhat,yhat_lower and yhat_upper columns from the DataFrame\n",
    "forecast_mercado_trends[[\"yhat\", \"yhat_lower\", \"yhat_upper\"]]"
   ]
  },
  {
   "cell_type": "markdown",
   "metadata": {
    "id": "OR3T8azpaACX"
   },
   "source": [
    "Solutions Note: `yhat` represents the most likely (average) forecast, whereas `yhat_lower` and `yhat_upper` represents the worst and best case prediction (based on what are known as 95% confidence intervals)."
   ]
  },
  {
   "cell_type": "code",
   "execution_count": null,
   "metadata": {
    "colab": {
     "base_uri": "https://localhost:8080/",
     "height": 317
    },
    "id": "afEN2ztMaACX",
    "outputId": "c170fced-a981-4834-f336-8323d5e92da2"
   },
   "outputs": [],
   "source": [
    "# Holoviews extension to render hvPlots in Colab\n",
    "hv.extension('bokeh')\n",
    "\n",
    "# From the forecast_mercado_trends DataFrame, use hvPlot to visualize\n",
    "#  the yhat, yhat_lower, and yhat_upper columns over the last 2000 hours \n",
    "forecast_mercado_trends[[\"yhat\", \"yhat_lower\", \"yhat_upper\"]].iloc[-2000:,:].hvplot()"
   ]
  },
  {
   "cell_type": "code",
   "execution_count": null,
   "metadata": {
    "colab": {
     "base_uri": "https://localhost:8080/",
     "height": 1000
    },
    "id": "lSH8WIWsaACX",
    "outputId": "805a1174-4ed9-49fe-b6f0-4887b68c3ee6"
   },
   "outputs": [],
   "source": [
    "# Reset the index in the forecast_mercado_trends DataFrame\n",
    "forecast_mercado_trends = forecast_mercado_trends.reset_index()\n",
    "\n",
    "# Use the plot_components function to visualize the forecast results \n",
    "# for the forecast_canada DataFrame \n",
    "figures_mercado_trends = model_mercado_trends.plot_components(forecast_mercado_trends)"
   ]
  },
  {
   "cell_type": "markdown",
   "metadata": {
    "id": "sgv2QS__aACX"
   },
   "source": [
    "##### Answer the following questions:"
   ]
  },
  {
   "cell_type": "markdown",
   "metadata": {
    "id": "CIq-AH9RaACX"
   },
   "source": [
    "**Question:** What time of day exhibits the greatest popularity?\n",
    "\n",
    "**Answer:** It appears that 00:00:00 exhibits the greatest popularity."
   ]
  },
  {
   "cell_type": "markdown",
   "metadata": {
    "id": "9GwA-TesaACX"
   },
   "source": [
    "**Question:** Which day of week gets the most search traffic? \n",
    "   \n",
    "**Answer:** Tuesday gets the most search traffic."
   ]
  },
  {
   "cell_type": "markdown",
   "metadata": {
    "id": "HGsY97LeaACX"
   },
   "source": [
    "**Question:** What's the lowest point for search traffic in the calendar year?\n",
    "\n",
    "**Answer:** Mid-October is the lowest point for search traffic in the calendar year\n"
   ]
  },
  {
   "cell_type": "markdown",
   "metadata": {
    "id": "MKpgSpZUaACX"
   },
   "source": [
    "## Step 5 (Optional): Forecast Revenue by Using Time Series Models\n",
    "\n",
    "A few weeks after your initial analysis, the finance group follows up to find out if you can help them solve a different problem. Your fame as a growth analyst in the company continues to grow!\n",
    "\n",
    "Specifically, the finance group wants a forecast of the total sales for the next quarter. This will dramatically increase their ability to plan budgets and to help guide expectations for the company investors.\n",
    "\n",
    "To do so, complete the following steps:\n",
    "\n",
    "1. Read in the daily historical sales (that is, revenue) figures, and then apply a Prophet model to the data. The daily sales figures are quoted in millions of USD dollars.\n",
    "\n",
    "2. Interpret the model output to identify any seasonal patterns in the company's revenue. For example, what are the peak revenue days? (Mondays? Fridays? Something else?)\n",
    "\n",
    "3. Produce a sales forecast for the finance group. Give them a number for the expected total sales in the next quarter. Include the best- and worst-case scenarios to help them make better plans.\n",
    "\n",
    "\n"
   ]
  },
  {
   "cell_type": "markdown",
   "metadata": {
    "id": "Ke1GIgjtaACX"
   },
   "source": [
    "#### Step 1: Read in the daily historical sales (that is, revenue) figures, and then apply a Prophet model to the data."
   ]
  },
  {
   "cell_type": "code",
   "execution_count": null,
   "metadata": {
    "id": "tIZtjw6_aACX"
   },
   "outputs": [],
   "source": [
    "# Upload the \"mercado_daily_revenue.csv\" file into Colab, then store in a Pandas DataFrame\n",
    "from google.colab import files\n",
    "uploaded = files.upload()"
   ]
  },
  {
   "cell_type": "code",
   "execution_count": null,
   "metadata": {
    "colab": {
     "base_uri": "https://localhost:8080/",
     "height": 238
    },
    "id": "TTibAmoxRAR0",
    "outputId": "529926d2-a39d-4352-927d-000621802617"
   },
   "outputs": [],
   "source": [
    "# Set the \"date\" column as the DatetimeIndex\n",
    "# Sales are quoted in millions of US dollars\n",
    "df_mercado_sales = pd.read_csv(\"mercado_daily_revenue.csv\",\n",
    "                               index_col = \"date\",\n",
    "                               parse_dates = True,\n",
    "                               infer_datetime_format = True)\n",
    "\n",
    "# Review the DataFrame\n",
    "df_mercado_sales.head()"
   ]
  },
  {
   "cell_type": "code",
   "execution_count": null,
   "metadata": {
    "colab": {
     "base_uri": "https://localhost:8080/",
     "height": 317
    },
    "id": "Da5WjZaJaACX",
    "outputId": "d0ed0552-e41a-439b-c738-8dcd14eedb8e"
   },
   "outputs": [],
   "source": [
    "# Holoviews extension to render hvPlots in Colab\n",
    "hv.extension('bokeh')\n",
    "\n",
    "# Use hvPlot to visualize the daily sales figures \n",
    "df_mercado_sales.hvplot(title = \"MercadoLibre Daily Revenue\")"
   ]
  },
  {
   "cell_type": "code",
   "execution_count": null,
   "metadata": {
    "colab": {
     "base_uri": "https://localhost:8080/",
     "height": 206
    },
    "id": "sY8r7rJfaACX",
    "outputId": "55695d3f-63ae-4e4d-ab46-34ac3cf9ca9d"
   },
   "outputs": [],
   "source": [
    "# Apply a Facebook Prophet model to the data.\n",
    "\n",
    "# Set up the dataframe in the neccessary format:\n",
    "# Reset the index so that date becomes a column in the DataFrame\n",
    "mercado_sales_prophet_df = df_mercado_sales.reset_index()\n",
    "\n",
    "# Adjust the columns names to the Prophet syntax\n",
    "mercado_sales_prophet_df = mercado_sales_prophet_df.rename(columns = {\"date\" : \"ds\", \"Daily Sales\" : 'y'})\n",
    "\n",
    "# Visualize the DataFrame\n",
    "mercado_sales_prophet_df.tail()"
   ]
  },
  {
   "cell_type": "code",
   "execution_count": null,
   "metadata": {
    "colab": {
     "base_uri": "https://localhost:8080/"
    },
    "id": "gZXPRg_raACX",
    "outputId": "b9217b28-821a-4101-8ee5-6159b48b8b76"
   },
   "outputs": [],
   "source": [
    "# Create the model\n",
    "mercado_sales_prophet_model = Prophet()\n",
    "\n",
    "# Fit the model\n",
    "mercado_sales_prophet_model.fit(mercado_sales_prophet_df)"
   ]
  },
  {
   "cell_type": "code",
   "execution_count": null,
   "metadata": {
    "colab": {
     "base_uri": "https://localhost:8080/",
     "height": 206
    },
    "id": "xXeM3_DEaACX",
    "outputId": "6e63e0d6-b15d-4fac-f01f-6965b58c704e"
   },
   "outputs": [],
   "source": [
    "# Predict sales for 90 days (1 quarter) out into the future.\n",
    "# Custom student code: Create variable that converts 90 days to hours\n",
    "hours = 90 * 24\n",
    "\n",
    "# Start by making a future dataframe\n",
    "mercado_sales_prophet_future = mercado_sales_prophet_model.make_future_dataframe(periods= hours, freq=\"H\")\n",
    "\n",
    "# Display the last five rows of the future DataFrame\n",
    "mercado_sales_prophet_future.tail()"
   ]
  },
  {
   "cell_type": "code",
   "execution_count": null,
   "metadata": {
    "colab": {
     "base_uri": "https://localhost:8080/",
     "height": 357
    },
    "id": "veVH-AA_aACY",
    "outputId": "2a503879-fbfc-43ee-8433-9bad5cda49da"
   },
   "outputs": [],
   "source": [
    "# Make predictions for the sales each day over the next quarter\n",
    "mercado_sales_prophet_forecast = mercado_sales_prophet_model.predict(mercado_sales_prophet_future)\n",
    "\n",
    "# Display the first 5 rows of the resulting DataFrame\n",
    "mercado_sales_prophet_forecast.head()"
   ]
  },
  {
   "cell_type": "markdown",
   "metadata": {
    "id": "e6TTK4LeaACY"
   },
   "source": [
    "#### Step 2: Interpret the model output to identify any seasonal patterns in the company's revenue. For example, what are the peak revenue days? (Mondays? Fridays? Something else?)"
   ]
  },
  {
   "cell_type": "code",
   "execution_count": null,
   "metadata": {
    "colab": {
     "base_uri": "https://localhost:8080/",
     "height": 1000
    },
    "id": "yvYoen34aACY",
    "outputId": "721478b5-757c-4055-d01f-1ce143141c29"
   },
   "outputs": [],
   "source": [
    "# Use the plot_components function to analyze seasonal patterns in the company's revenue\n",
    "mercado_sales_prophet_model.plot_components(mercado_sales_prophet_forecast)"
   ]
  },
  {
   "cell_type": "markdown",
   "metadata": {
    "id": "QPOo6H2zaACY"
   },
   "source": [
    "##### Answer the following question:"
   ]
  },
  {
   "cell_type": "markdown",
   "metadata": {
    "id": "nl-X4UW-aACY"
   },
   "source": [
    "**Question:** For example, what are the peak revenue days? (Mondays? Fridays? Something else?)\n",
    "\n",
    "**Answer:** Wednesdays are peak revenue days."
   ]
  },
  {
   "cell_type": "markdown",
   "metadata": {
    "id": "fDv1uZ8maACY"
   },
   "source": [
    "#### Step 3: Produce a sales forecast for the finance group. Give them a number for the expected total sales in the next quarter. Include the best- and worst-case scenarios to help them make better plans."
   ]
  },
  {
   "cell_type": "code",
   "execution_count": null,
   "metadata": {
    "colab": {
     "base_uri": "https://localhost:8080/",
     "height": 1000
    },
    "id": "_5vv5jnQaACY",
    "outputId": "6e0be625-2a94-4143-a31b-9999f67ec5b0"
   },
   "outputs": [],
   "source": [
    "# Plot the predictions for the Mercado sales\n",
    "mercado_sales_prophet_model.plot(mercado_sales_prophet_forecast)"
   ]
  },
  {
   "cell_type": "code",
   "execution_count": null,
   "metadata": {
    "colab": {
     "base_uri": "https://localhost:8080/",
     "height": 782
    },
    "id": "6Ax4Va1laACY",
    "outputId": "e07f5bf2-62a8-4407-f880-fd2b9a4f87f1"
   },
   "outputs": [],
   "source": [
    "# For the mercado_sales_prophet_forecast DataFrame, set the ds column as the DataFrame Index\n",
    "mercado_sales_prophet_forecast = mercado_sales_prophet_forecast.set_index(\"ds\")\n",
    "\n",
    "# Display the first and last five rows of the DataFrame\n",
    "display(mercado_sales_prophet_forecast.head())\n",
    "display(mercado_sales_prophet_forecast.tail())"
   ]
  },
  {
   "cell_type": "code",
   "execution_count": null,
   "metadata": {
    "colab": {
     "base_uri": "https://localhost:8080/",
     "height": 238
    },
    "id": "Jmiz9ixRaACY",
    "outputId": "ee27687f-b947-4379-c509-f187a479307b"
   },
   "outputs": [],
   "source": [
    "# Produce a sales forecast for the finance division\n",
    "# giving them a number for expected total sales next quarter.\n",
    "# Provide best case (yhat_upper), worst case (yhat_lower), and most likely (yhat) scenarios.\n",
    "\n",
    "# Create a forecast_quarter Dataframe for the period 2020-07-01 to 2020-09-30\n",
    "# The DataFrame should include the columns yhat_upper, yhat_lower, and yhat\n",
    "mercado_sales_forecast_quarter = mercado_sales_prophet_forecast[[\"yhat\", \n",
    "                                                                 \"yhat_lower\", \n",
    "                                                                 \"yhat_upper\"]].loc[\"2020-07-01\" : \"2020-09-30\"]\n",
    "\n",
    "# Update the column names for the forecast_quarter DataFrame\n",
    "# to match what the finance division is looking for \n",
    "mercado_sales_forecast_quarter = mercado_sales_forecast_quarter.rename(columns = {\"yhat_upper\" : \"best case\", \n",
    "                                                                        \"yhat_lower\" : \"worst case\", \n",
    "                                                                        \"yhat\" : \"most likely\"}\n",
    "                                                                       )\n",
    "# Review the last five rows of the DataFrame\n",
    "mercado_sales_forecast_quarter.tail()"
   ]
  },
  {
   "cell_type": "code",
   "execution_count": null,
   "metadata": {
    "colab": {
     "base_uri": "https://localhost:8080/"
    },
    "id": "Mz3XkMikaACY",
    "outputId": "5bf30e6a-373f-4a1d-cd96-3cad7cf6eede"
   },
   "outputs": [],
   "source": [
    "# Displayed the summed values for all the rows in the forecast_quarter DataFrame\n",
    "mercado_sales_forecast_quarter.sum()"
   ]
  },
  {
   "cell_type": "markdown",
   "metadata": {
    "id": "SVfHI2zjaACY"
   },
   "source": [
    "### Based on the forecast information generated above, produce a sales forecast for the finance division, giving them a number for expected total sales next quarter. Include best and worst case scenarios, to better help the finance team plan.\n",
    "\n",
    "**Answer:** \n",
    "##### most likely    22750.091992\n",
    "##### worst case     20829.813155\n",
    "##### best case      24675.289950\n",
    "\n",
    "##### *Please note that these forecasts are until 2020-08-12 per challenge instructions to predict 90 days out into the future (and not until 2020-09-30). Sales forecasts may be underestimated."
   ]
  },
  {
   "cell_type": "code",
   "execution_count": null,
   "metadata": {
    "id": "YXjgdaHmaACZ"
   },
   "outputs": [],
   "source": []
  },
  {
   "cell_type": "code",
   "execution_count": null,
   "metadata": {},
   "outputs": [],
   "source": []
  }
 ],
 "metadata": {
  "colab": {
   "provenance": []
  },
  "interpreter": {
   "hash": "19e8989aa3860df68a863f1588d3224aff2bcab6c36efaf4301abe79e1a8b3d9"
  },
  "kernelspec": {
   "display_name": "Python 3",
   "language": "python",
   "name": "python3"
  },
  "language_info": {
   "codemirror_mode": {
    "name": "ipython",
    "version": 3
   },
   "file_extension": ".py",
   "mimetype": "text/x-python",
   "name": "python",
   "nbconvert_exporter": "python",
   "pygments_lexer": "ipython3",
   "version": "3.7.13"
  }
 },
 "nbformat": 4,
 "nbformat_minor": 4
}
